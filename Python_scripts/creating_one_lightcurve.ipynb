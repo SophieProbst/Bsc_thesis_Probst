{
 "cells": [
  {
   "cell_type": "code",
   "execution_count": null,
   "metadata": {},
   "outputs": [],
   "source": [
    "import matplotlib.pyplot as plt\n",
    "import numpy as np\n",
    "import lightkurve as lk\n",
    "\n",
    "\n",
    "from flare_timestamps import get_timestamps"
   ]
  },
  {
   "cell_type": "markdown",
   "metadata": {},
   "source": [
    "Search for the target in the Kepler database. Here the target KIC5695372 was chosen. Then download the lightcurve collection for that target. The collection conatins the lightcurves for all quarters in which the target was observed. The lightcurves are stored in a fits file. "
   ]
  },
  {
   "cell_type": "code",
   "execution_count": null,
   "metadata": {},
   "outputs": [],
   "source": [
    "search_result= lk.search_lightcurve('KIC 5695372', mission='Kepler', cadence='long') \n",
    "search_result\n",
    "lc_collection = search_result.download_all()\n",
    "lc_collection\n",
    "\n"
   ]
  },
  {
   "cell_type": "markdown",
   "metadata": {},
   "source": [
    "Plot the flux data from all qurters. For all further analysis the PDCSAP flux will be used. This is the flux data after the Pre-Search Data Conditioning (PDC) pipeline which removes instrumental signatures from the data."
   ]
  },
  {
   "cell_type": "code",
   "execution_count": null,
   "metadata": {},
   "outputs": [],
   "source": [
    "ax= lc_collection[0].plot(column='pdcsap_flux', label=None)\n",
    "for lc in lc_collection[1:]:\n",
    "    lc.plot(ax=ax, column='pdcsap_flux', label=None)\n",
    "plt.title('KIC 6034120: Flux over all quarters ')\n",
    "plt.ylabel('Flux (e-/s)')\n",
    "plt.savefig('KIC10011070_flux_over_all_quarters.pdf')\n",
    "plt.show()"
   ]
  },
  {
   "cell_type": "markdown",
   "metadata": {},
   "source": [
    "Now all the quarters have to be normalized to the same value. This could be done manually but the lightkurve package has a function for that which normalizes the flux data to the same value."
   ]
  },
  {
   "cell_type": "markdown",
   "metadata": {},
   "source": [
    "Now the quartes have to be stitched together in order to get one lightcurve. This is done by the stitch() function of the lightkurve package. The function takes the lightcurve collection as input and returns the stitched lightcurve."
   ]
  },
  {
   "cell_type": "code",
   "execution_count": null,
   "metadata": {},
   "outputs": [],
   "source": [
    "lc_stitched = lc_collection.stitch()\n",
    "lc_collection.stitch().plot(color='black');\n",
    "\n",
    "#plot the peaks to the matched time stamps\n",
    "plt.title('Stitched lightcurve over all quarters')\n",
    "plt.ylabel('Normalized Flux (ΔF/F)') \n",
    "plt.grid(True)\n",
    "plt.savefig('KIC5695372_add_flares.pdf')\n",
    "plt.show()\n"
   ]
  },
  {
   "cell_type": "markdown",
   "metadata": {},
   "source": [
    "In order to get the lightcurve for the flare, the time of the flare has to be known. For that the last column of the superflares.txt file is used. This is doen in the get_timestamps() function. The function takes the superflares.txt file as input and returns the timestamps of the flares."
   ]
  },
  {
   "cell_type": "code",
   "execution_count": null,
   "metadata": {},
   "outputs": [],
   "source": [
    "#do the exact same as the above but only for one target\n",
    "target_names= np.loadtxt('superflares.txt', dtype='str', usecols=0)\n",
    "target_name = '5695372'\n",
    "input_file = 'superflares.txt'\n",
    "all_timestamps = get_timestamps(target_name, input_file)\n",
    "\n",
    "try:\n",
    "    search_result = lk.search_lightcurve(f'KIC {target_name}', mission='Kepler', cadence='long')\n",
    "    lc_collection = search_result.download_all()\n",
    "except:\n",
    "    print(f'Lightcurve for KIC {target_name} not found')\n",
    "    pass"
   ]
  },
  {
   "cell_type": "markdown",
   "metadata": {},
   "source": [
    "The unit of the timestamps has to be converted and they are rounded (this is only used for the xticks in the plot)"
   ]
  },
  {
   "cell_type": "code",
   "execution_count": null,
   "metadata": {},
   "outputs": [],
   "source": [
    "timestamps = []\n",
    "for element in all_timestamps:\n",
    "    element = float(element) + float(2400000)\n",
    "    timestamp = np.round(element - 2454833, 2)\n",
    "    timestamps.append(timestamp)\n",
    "\n",
    "\n",
    "t= np.array(lc_collection.stitch().time.value)\n",
    "lc= np.array((lc_collection.stitch().flux) - 1)"
   ]
  },
  {
   "cell_type": "markdown",
   "metadata": {},
   "source": [
    "Next a loop is created over all flare timestamps for one target (usually one star has multiple recorded superflares). Each time the the time is plotted against the stars flux in an interval 40 days before and 20 days after the flare."
   ]
  },
  {
   "cell_type": "code",
   "execution_count": null,
   "metadata": {},
   "outputs": [],
   "source": [
    "for element in timestamps:\n",
    "\n",
    "    plt.figure(figsize=(10, 10))\n",
    "    plt.plot(t, lc, 'black',  lw=0.3)\n",
    "    plt.xlim(element-40, element+20)\n",
    "    plt.xticks([element-40, element-30, element-20, element-10, element, element+10, element+20], ['-40','-30','-20','-10','0','10','20'])\n",
    "    plt.ylim(-0.01,0.02)\n",
    "    plt.grid()\n",
    "    plt.title('Kepler Lightcurve for KIC: ' + target_name)\n",
    "    # plt.title('Flare date: ' + str(element) + ' days')\n",
    "    plt.xlabel('Day from peak')\n",
    "    plt.ylabel('Flux (ΔF/F)')\n",
    "    plt.show()"
   ]
  }
 ],
 "metadata": {
  "kernelspec": {
   "display_name": "Python 3",
   "language": "python",
   "name": "python3"
  },
  "language_info": {
   "codemirror_mode": {
    "name": "ipython",
    "version": 3
   },
   "file_extension": ".py",
   "mimetype": "text/x-python",
   "name": "python",
   "nbconvert_exporter": "python",
   "pygments_lexer": "ipython3",
   "version": "3.10.11"
  },
  "orig_nbformat": 4
 },
 "nbformat": 4,
 "nbformat_minor": 2
}
